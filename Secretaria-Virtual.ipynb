{
 "cells": [
  {
   "cell_type": "code",
   "execution_count": 7,
   "id": "d547bbbb-f9b4-43ab-aac1-18a58fb8de2b",
   "metadata": {
    "scrolled": true
   },
   "outputs": [
    {
     "name": "stdout",
     "output_type": "stream",
     "text": [
      "Requirement already satisfied: google-generativeai in /opt/miniconda3/lib/python3.13/site-packages (0.8.5)\n",
      "Requirement already satisfied: google-ai-generativelanguage==0.6.15 in /opt/miniconda3/lib/python3.13/site-packages (from google-generativeai) (0.6.15)\n",
      "Requirement already satisfied: google-api-core in /opt/miniconda3/lib/python3.13/site-packages (from google-generativeai) (2.25.1)\n",
      "Requirement already satisfied: google-api-python-client in /opt/miniconda3/lib/python3.13/site-packages (from google-generativeai) (2.181.0)\n",
      "Requirement already satisfied: google-auth>=2.15.0 in /opt/miniconda3/lib/python3.13/site-packages (from google-generativeai) (2.40.3)\n",
      "Requirement already satisfied: protobuf in /opt/miniconda3/lib/python3.13/site-packages (from google-generativeai) (5.29.5)\n",
      "Requirement already satisfied: pydantic in /opt/miniconda3/lib/python3.13/site-packages (from google-generativeai) (2.11.7)\n",
      "Requirement already satisfied: tqdm in /opt/miniconda3/lib/python3.13/site-packages (from google-generativeai) (4.67.1)\n",
      "Requirement already satisfied: typing-extensions in /opt/miniconda3/lib/python3.13/site-packages (from google-generativeai) (4.12.2)\n",
      "Requirement already satisfied: proto-plus<2.0.0dev,>=1.22.3 in /opt/miniconda3/lib/python3.13/site-packages (from google-ai-generativelanguage==0.6.15->google-generativeai) (1.26.1)\n",
      "Requirement already satisfied: googleapis-common-protos<2.0.0,>=1.56.2 in /opt/miniconda3/lib/python3.13/site-packages (from google-api-core->google-generativeai) (1.70.0)\n",
      "Requirement already satisfied: requests<3.0.0,>=2.18.0 in /opt/miniconda3/lib/python3.13/site-packages (from google-api-core->google-generativeai) (2.32.4)\n",
      "Requirement already satisfied: grpcio<2.0.0,>=1.33.2 in /opt/miniconda3/lib/python3.13/site-packages (from google-api-core[grpc]!=2.0.*,!=2.1.*,!=2.10.*,!=2.2.*,!=2.3.*,!=2.4.*,!=2.5.*,!=2.6.*,!=2.7.*,!=2.8.*,!=2.9.*,<3.0.0dev,>=1.34.1->google-ai-generativelanguage==0.6.15->google-generativeai) (1.74.0)\n",
      "Requirement already satisfied: grpcio-status<2.0.0,>=1.33.2 in /opt/miniconda3/lib/python3.13/site-packages (from google-api-core[grpc]!=2.0.*,!=2.1.*,!=2.10.*,!=2.2.*,!=2.3.*,!=2.4.*,!=2.5.*,!=2.6.*,!=2.7.*,!=2.8.*,!=2.9.*,<3.0.0dev,>=1.34.1->google-ai-generativelanguage==0.6.15->google-generativeai) (1.71.2)\n",
      "Requirement already satisfied: cachetools<6.0,>=2.0.0 in /opt/miniconda3/lib/python3.13/site-packages (from google-auth>=2.15.0->google-generativeai) (5.5.2)\n",
      "Requirement already satisfied: pyasn1-modules>=0.2.1 in /opt/miniconda3/lib/python3.13/site-packages (from google-auth>=2.15.0->google-generativeai) (0.4.2)\n",
      "Requirement already satisfied: rsa<5,>=3.1.4 in /opt/miniconda3/lib/python3.13/site-packages (from google-auth>=2.15.0->google-generativeai) (4.9.1)\n",
      "Requirement already satisfied: charset_normalizer<4,>=2 in /opt/miniconda3/lib/python3.13/site-packages (from requests<3.0.0,>=2.18.0->google-api-core->google-generativeai) (3.3.2)\n",
      "Requirement already satisfied: idna<4,>=2.5 in /opt/miniconda3/lib/python3.13/site-packages (from requests<3.0.0,>=2.18.0->google-api-core->google-generativeai) (3.7)\n",
      "Requirement already satisfied: urllib3<3,>=1.21.1 in /opt/miniconda3/lib/python3.13/site-packages (from requests<3.0.0,>=2.18.0->google-api-core->google-generativeai) (2.5.0)\n",
      "Requirement already satisfied: certifi>=2017.4.17 in /opt/miniconda3/lib/python3.13/site-packages (from requests<3.0.0,>=2.18.0->google-api-core->google-generativeai) (2025.7.14)\n",
      "Requirement already satisfied: pyasn1>=0.1.3 in /opt/miniconda3/lib/python3.13/site-packages (from rsa<5,>=3.1.4->google-auth>=2.15.0->google-generativeai) (0.6.1)\n",
      "Requirement already satisfied: httplib2<1.0.0,>=0.19.0 in /opt/miniconda3/lib/python3.13/site-packages (from google-api-python-client->google-generativeai) (0.30.0)\n",
      "Requirement already satisfied: google-auth-httplib2<1.0.0,>=0.2.0 in /opt/miniconda3/lib/python3.13/site-packages (from google-api-python-client->google-generativeai) (0.2.0)\n",
      "Requirement already satisfied: uritemplate<5,>=3.0.1 in /opt/miniconda3/lib/python3.13/site-packages (from google-api-python-client->google-generativeai) (4.2.0)\n",
      "Requirement already satisfied: pyparsing<4,>=3.0.4 in /opt/miniconda3/lib/python3.13/site-packages (from httplib2<1.0.0,>=0.19.0->google-api-python-client->google-generativeai) (3.2.3)\n",
      "Requirement already satisfied: annotated-types>=0.6.0 in /opt/miniconda3/lib/python3.13/site-packages (from pydantic->google-generativeai) (0.6.0)\n",
      "Requirement already satisfied: pydantic-core==2.33.2 in /opt/miniconda3/lib/python3.13/site-packages (from pydantic->google-generativeai) (2.33.2)\n",
      "Requirement already satisfied: typing-inspection>=0.4.0 in /opt/miniconda3/lib/python3.13/site-packages (from pydantic->google-generativeai) (0.4.0)\n"
     ]
    }
   ],
   "source": [
    "!pip install google-generativeai\n"
   ]
  },
  {
   "cell_type": "markdown",
   "id": "9af73950-99c3-4bef-a764-4a034f232d12",
   "metadata": {
    "scrolled": true
   },
   "source": [
    "1. Importar Gemini"
   ]
  },
  {
   "cell_type": "code",
   "execution_count": 8,
   "id": "3611b8c6-38e4-4cfe-9c67-581c4250bc50",
   "metadata": {},
   "outputs": [],
   "source": [
    "import google.generativeai as genai\n",
    "import os\n",
    "from IPython.display import display, Markdown"
   ]
  },
  {
   "cell_type": "markdown",
   "id": "d3151b40-7ea2-497c-a518-845bae9a6069",
   "metadata": {},
   "source": [
    "2. Configurar la API Key"
   ]
  },
  {
   "cell_type": "code",
   "execution_count": 9,
   "id": "9ae4a582-1eb4-45e7-860b-3e05d7c022bc",
   "metadata": {},
   "outputs": [],
   "source": [
    "genai.configure(api_key=\"TU_API_KEY_AQUI\")\n"
   ]
  },
  {
   "cell_type": "markdown",
   "id": "84877c4a-bcdc-4336-ae1f-8156ecbacfc4",
   "metadata": {},
   "source": [
    "3. Seleccion de modelo "
   ]
  },
  {
   "cell_type": "code",
   "execution_count": 10,
   "id": "d9fb09b3-04dd-491e-9692-d48582da0350",
   "metadata": {},
   "outputs": [],
   "source": [
    "model = genai.GenerativeModel(\"gemini-1.5-pro\")"
   ]
  },
  {
   "cell_type": "markdown",
   "id": "8ececb7c-5989-4a5f-bf84-88790a113225",
   "metadata": {},
   "source": [
    "4. Contexto "
   ]
  },
  {
   "cell_type": "code",
   "execution_count": 11,
   "id": "6a75491d-460b-4e0c-bda5-2e20cac7c58e",
   "metadata": {},
   "outputs": [],
   "source": [
    "context = \"\"\"\n",
    "Eres un asistente virtual de Secretaría Remota Personalizada. \n",
    "Tu misión es: dar la bienvenida, hacer preguntas para detectar necesidades, \n",
    "recomendar un paquete (Básico, Intermedio, Avanzado) y ofrecer contacto humano. \n",
    "Responde de forma breve, cálida y con una sola pregunta por turno.\n",
    "\"\"\"\n",
    "few_shots = \"\"\"\n",
    "Ejemplo 1:\n",
    "Usuario: Hola\n",
    "Asistente: ¡Hola! 👋 Soy tu asistente virtual de Secretaría Remota Personalizada. \n",
    "¿Me contás cómo gestionás hoy tus turnos: agenda propia, planilla o sistema?\n",
    "\n",
    "Ejemplo 2:\n",
    "Usuario: Uso una agenda física\n",
    "Asistente: Perfecto, gracias por contarme 📒  \n",
    "Si pasás a un sistema digital, podrías ahorrar tiempo y evitar errores.  \n",
    "¿Querés que te muestre qué paquete podría servirte?\n",
    "\"\"\"\n"
   ]
  },
  {
   "cell_type": "code",
   "execution_count": 12,
   "id": "d47de0b0-48b2-4f0c-9e75-39ed450b0e8f",
   "metadata": {},
   "outputs": [
    {
     "name": "stdout",
     "output_type": "stream",
     "text": [
      "💬 Chat iniciado (escribe 'salir' para terminar)\n",
      "\n"
     ]
    },
    {
     "name": "stdin",
     "output_type": "stream",
     "text": [
      "Haz una pregunta sobre el servicio:  como funciona?\n"
     ]
    },
    {
     "name": "stdout",
     "output_type": "stream",
     "text": [
      "Error al llamar a la API: 429 You exceeded your current quota, please check your plan and billing details. For more information on this error, head to: https://ai.google.dev/gemini-api/docs/rate-limits. [violations {\n",
      "  quota_metric: \"generativelanguage.googleapis.com/generate_content_free_tier_requests\"\n",
      "  quota_id: \"GenerateRequestsPerDayPerProjectPerModel-FreeTier\"\n",
      "  quota_dimensions {\n",
      "    key: \"model\"\n",
      "    value: \"gemini-1.5-pro\"\n",
      "  }\n",
      "  quota_dimensions {\n",
      "    key: \"location\"\n",
      "    value: \"global\"\n",
      "  }\n",
      "}\n",
      "violations {\n",
      "  quota_metric: \"generativelanguage.googleapis.com/generate_content_free_tier_requests\"\n",
      "  quota_id: \"GenerateRequestsPerMinutePerProjectPerModel-FreeTier\"\n",
      "  quota_dimensions {\n",
      "    key: \"model\"\n",
      "    value: \"gemini-1.5-pro\"\n",
      "  }\n",
      "  quota_dimensions {\n",
      "    key: \"location\"\n",
      "    value: \"global\"\n",
      "  }\n",
      "}\n",
      "violations {\n",
      "  quota_metric: \"generativelanguage.googleapis.com/generate_content_free_tier_input_token_count\"\n",
      "  quota_id: \"GenerateContentInputTokensPerModelPerMinute-FreeTier\"\n",
      "  quota_dimensions {\n",
      "    key: \"model\"\n",
      "    value: \"gemini-1.5-pro\"\n",
      "  }\n",
      "  quota_dimensions {\n",
      "    key: \"location\"\n",
      "    value: \"global\"\n",
      "  }\n",
      "}\n",
      ", links {\n",
      "  description: \"Learn more about Gemini API quotas\"\n",
      "  url: \"https://ai.google.dev/gemini-api/docs/rate-limits\"\n",
      "}\n",
      ", retry_delay {\n",
      "  seconds: 36\n",
      "}\n",
      "]\n"
     ]
    }
   ],
   "source": [
    "print(\"💬 Chat iniciado (escribe 'salir' para terminar)\\n\")\n",
    "while True:\n",
    "    user_question = input(\"Haz una pregunta sobre el servicio: \")\n",
    "    if user_question.lower().strip() == \"salir\":\n",
    "        print(\"👋 ¡Hasta luego!\")\n",
    "        break\n",
    "\n",
    "    prompt = f\"{context}\\n\\n{few_shots}\\nUsuario: {user_question}\\nAsistente:\"\n",
    "\n",
    "    try:\n",
    "     \n",
    "        response = model.generate_content(prompt)\n",
    "        asistencia = response.text.strip()\n",
    "\n",
    "      \n",
    "        display(Markdown(f\"**Asistente:** {asistencia}\"))\n",
    "\n",
    "    except Exception as e:\n",
    "        print(\"Error al llamar a la API:\", e)\n",
    "        break\n",
    "\n",
    "\n",
    "    another_question = input(\"¿Querés hacer otra pregunta? (Si/No): \").lower().strip()\n",
    "    if another_question != \"si\":\n",
    "        print(\"Saliendo del programa. ¡Gracias!\")\n",
    "        break"
   ]
  },
  {
   "cell_type": "code",
   "execution_count": 1,
   "id": "bda044cf-20fd-40ec-bc01-688cfb26bf47",
   "metadata": {},
   "outputs": [
    {
     "name": "stdout",
     "output_type": "stream",
     "text": [
      "/Users/paularodriguez/POC Asistente de secretaria virtual\n"
     ]
    }
   ],
   "source": [
    "import os\n",
    "print (os.getcwd())\n"
   ]
  },
  {
   "cell_type": "code",
   "execution_count": null,
   "id": "d4284fa1-b8e8-43ab-9c14-ce7ad2f75251",
   "metadata": {},
   "outputs": [],
   "source": []
  }
 ],
 "metadata": {
  "kernelspec": {
   "display_name": "Python 3 (ipykernel)",
   "language": "python",
   "name": "python3"
  },
  "language_info": {
   "codemirror_mode": {
    "name": "ipython",
    "version": 3
   },
   "file_extension": ".py",
   "mimetype": "text/x-python",
   "name": "python",
   "nbconvert_exporter": "python",
   "pygments_lexer": "ipython3",
   "version": "3.13.5"
  }
 },
 "nbformat": 4,
 "nbformat_minor": 5
}
